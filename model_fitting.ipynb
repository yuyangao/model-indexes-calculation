{
 "cells": [
  {
   "cell_type": "markdown",
   "id": "667036f5",
   "metadata": {},
   "source": [
    "### Model Indexes Calculation"
   ]
  },
  {
   "cell_type": "markdown",
   "id": "a506e1a3",
   "metadata": {},
   "source": [
    "这个tutorial的目的是，根据model-fitting的结果计算AIC/BIC/pxp值。主要过程涉及：\n",
    "1. 构建模型\n",
    "2. 给定参数模拟出数据，然后用这些数据跑模型拟合\n",
    "3. 计算拟合结果的模型指标（AIC/BIC/pxp）\n",
    "4. 可视化指标结果"
   ]
  },
  {
   "cell_type": "code",
   "execution_count": 3,
   "id": "ca8bc73d",
   "metadata": {},
   "outputs": [],
   "source": [
    "import numpy as np\n",
    "import pandas as pd\n",
    "import pickle\n",
    "import os\n",
    "import matplotlib.pyplot as plt\n",
    "%matplotlib inline\n",
    "%config InlineBackend.figure_format='retina'\n",
    "from utils.draw import *\n",
    "from utils.fit import *  \n",
    "from utils.tools import *\n"
   ]
  },
  {
   "cell_type": "markdown",
   "id": "7c943ecd",
   "metadata": {},
   "source": [
    "#### 定义基础函数"
   ]
  },
  {
   "cell_type": "code",
   "execution_count": 4,
   "id": "30fdb254",
   "metadata": {},
   "outputs": [],
   "source": [
    "##------------basic functions-------------##\n",
    "def softmax(beta, values):\n",
    "    '''softmax: p(x) = exp(x)/sum_(x') exp(x')'''\n",
    "    values = np.array(values)\n",
    "    # 在这个基础上加入inverse temperature \n",
    "    exp_vals = np.exp(beta * (values - np.max(values)))  # 避免溢出\n",
    "    return exp_vals / np.sum(exp_vals)\n",
    "\n",
    "def make_loss_fn(agent_class, nA):\n",
    "    def loss_fn(params, data, *args):\n",
    "        agent = agent_class(nA=nA, params=params, data=data)\n",
    "        pi = agent.policy()\n",
    "        actions = agent.actions\n",
    "        eps = 1e-10\n",
    "        return -np.sum(np.log(pi[np.arange(len(actions)), actions] + eps))\n",
    "    return loss_fn\n",
    "\n",
    "def clip_exp(x):\n",
    "    x = np.clip(x, a_min=-1e15, a_max=50)\n",
    "    return np.exp(x)\n",
    "\n",
    "def sigmoid(x):\n",
    "    p_param = 1/(1+clip_exp(-x))\n",
    "    return p_param\n",
    "\n",
    "def preprocess(actions, rewards):\n",
    "    '''package data. in dataframe format'''\n",
    "    df = pd.DataFrame({'actions': actions, 'rewards': rewards})\n",
    "    return df\n"
   ]
  },
  {
   "cell_type": "markdown",
   "id": "b2b0bdc2",
   "metadata": {},
   "source": [
    "#### define models\n",
    "* 这里用的是经典RW模型和固定了beta后的RW模型"
   ]
  },
  {
   "cell_type": "code",
   "execution_count": 5,
   "id": "77d7610c",
   "metadata": {},
   "outputs": [],
   "source": [
    "##-----------------Model------------------##\n",
    "class RW:\n",
    "    '''The simplest RW model'''\n",
    "    p_names  = ['alpha', 'beta']     # 参数名\n",
    "    p_bnds  = [(0, 1), (-10, 10)]   # 取值范围\n",
    "    p_pbnds = [(0, 0.5), (-5, 5)]   # 最后求解出的值最有可能落入的区间\n",
    "    p_trans = [lambda x: sigmoid(x)] \\\n",
    "            + [lambda x: clip_exp(x)]\n",
    "    color = np.array([34, 125, 81])/255.0\n",
    "    name = 'RW'\n",
    "\n",
    "    def __init__(self, nA, params, data):\n",
    "        ## initialize the params and association values\n",
    "        ## load data\n",
    "        self.nA = nA                # 参数数量\n",
    "        self.T = len(data)          # data长度，即试次数量\n",
    "\n",
    "        # 在概率反转学习任务中需要的数据为被试选择的association和反馈（对/错）\n",
    "        self.actions = data['actions'].values   \n",
    "        self.rewards = data['rewards'].values\n",
    "\n",
    "        # 初始化association values 和policy(选择任一association的概率)\n",
    "        # 这里假定一共两种association。\n",
    "        self.V = np.zeros((self.T, self.nA)) # V的形状[试次长度， association数量（2）]\n",
    "        self.pi = None                       # set later\n",
    "        self.load_params(params)             # 加载需拟合的参数\n",
    "\n",
    "    def load_params(self, params):\n",
    "        self.alpha = params[0]\n",
    "        self.beta = params[1]\n",
    "\n",
    "    def learn(self):\n",
    "        '''\n",
    "        define the learning process: prediction + update\n",
    "        '''\n",
    "        V = self.V\n",
    "        for t in range(self.T):\n",
    "            if t == 0:\n",
    "                V[t] = np.zeros(self.nA)\n",
    "            else:\n",
    "                V[t] = V[t - 1].copy()\n",
    "                # preload action at trial t\n",
    "                a = self.actions[t]\n",
    "                ##-------------prediction--------------## \n",
    "                # 预测误差(PE)源自前一次选择了特定association后:\n",
    "                # 得到的反馈（reward)和对应更新的value\n",
    "                # delta_(t-1) = r_(t-1) - V_(t-1, chosen association)\n",
    "                delta = self.rewards[t - 1] - V[t - 1, a]\n",
    "\n",
    "                ##---------------update----------------## \n",
    "                # 只更新当前选择的联结 a的价值\n",
    "                # 基于PE 和 learning rate\n",
    "                # V_t = V_(t-1) + learning rate * PE\n",
    "                V[t, a] += self.alpha * delta\n",
    "        return V\n",
    "\n",
    "    def policy(self):\n",
    "        '''get action probabilities of both association'''\n",
    "\n",
    "        # 先加载已经更新好的value，形状(T, nA)\n",
    "        V = self.learn()\n",
    "        if self.pi is None:\n",
    "            # 初始化policy\n",
    "            self.pi = np.zeros((self.T, self.nA))\n",
    "            for t in range(self.T):\n",
    "                # 循环读取value后获得每一试次上任意一个action的概率\n",
    "                self.pi[t] = softmax(self.beta, V[t])\n",
    "\n",
    "        # 返回policy, 形状（T, nA。直接调取pi[action]即可获得对应的action probability        \n",
    "        return self.pi \n",
    "\n",
    "    def simulate(self, T, seed=None):\n",
    "        if seed is not None:\n",
    "            np.random.seed(seed)\n",
    "        '''\n",
    "        验证模型过程：\n",
    "        1. 先进行模拟: 给定参数后，产生模拟的被试数据\n",
    "        2. 把这些数据用于模型拟合, model fitting后得到参数\n",
    "        3. 真实参数和拟合参数进行相关分析。高则认为模型无误\n",
    "        '''\n",
    "        # 这里先初始化数据和association value\n",
    "        V = np.zeros((T, self.nA))\n",
    "        actions = np.zeros(T, dtype=int)\n",
    "        rewards = np.zeros(T, dtype=int)\n",
    "\n",
    "        for t in range(T):\n",
    "            current_values = V[t - 1] if t > 0 else np.zeros(self.nA)\n",
    "            # 同样使用softmax产生\n",
    "            pi = softmax(self.beta, current_values)\n",
    "            action = np.random.choice(self.nA, p=pi)\n",
    "            reward = np.random.choice([0, 1])\n",
    "\n",
    "            actions[t] = action\n",
    "            rewards[t] = reward\n",
    "\n",
    "            if t > 0:\n",
    "                V[t] = V[t - 1].copy()\n",
    "            V[t, action] += self.alpha * (reward - (V[t - 1, action] if t > 0 else 0))\n",
    "\n",
    "        return actions, rewards, V\n",
    "    \n",
    "    \n",
    "class FixedBetaRW(RW):\n",
    "    '''RW model with fixed beta'''\n",
    "    color = np.array([93, 172, 129])/255.0\n",
    "    name = 'FixedBetaRW'\n",
    "    def __init__(self, nA, params, data):\n",
    "        # 提取参数\n",
    "        self.alpha = params[0]  # alpha 从 params 中获取\n",
    "        self.beta = 5.0  # beta 固定为 2\n",
    "        super().__init__(nA, params=[self.alpha, self.beta], data=data)\n",
    "\n",
    "    def policy(self):\n",
    "        '''使用固定 beta 获取动作的概率分布'''\n",
    "        V = self.learn()  # 使用继承自 RW 的 learn 方法\n",
    "        pi = np.zeros((self.T, self.nA))\n",
    "        for t in range(self.T):\n",
    "            pi[t] = softmax(self.beta, V[t])  # 使用固定的 beta\n",
    "        return pi\n"
   ]
  },
  {
   "cell_type": "markdown",
   "id": "df50c463",
   "metadata": {},
   "source": [
    "#### simulation --get data"
   ]
  },
  {
   "cell_type": "code",
   "execution_count": 6,
   "id": "a8497649",
   "metadata": {},
   "outputs": [],
   "source": [
    "# 生成被试数据的函数\n",
    "def generate_subject_data(agent_class, nA, T, true_params):\n",
    "    dummy_agent = agent_class(nA=nA, params=true_params, data=pd.DataFrame({'actions': np.zeros(T), 'rewards': np.zeros(T)}))\n",
    "    actions, rewards, _ = dummy_agent.simulate(T)\n",
    "    return preprocess(actions, rewards)\n"
   ]
  },
  {
   "cell_type": "markdown",
   "id": "1fd0f530",
   "metadata": {},
   "source": [
    "#### model-fitting"
   ]
  },
  {
   "cell_type": "code",
   "execution_count": 7,
   "id": "21628417",
   "metadata": {},
   "outputs": [],
   "source": [
    "# 执行拟合的函数\n",
    "def fit_subject_data(sub_id, loss_fn, data, bnds, pbnds, p_names):\n",
    "    result = fit(\n",
    "        loss_fn=loss_fn,\n",
    "        data=data,\n",
    "        bnds=bnds,\n",
    "        pbnds=pbnds,\n",
    "        p_name=p_names,\n",
    "        p_priors=None,\n",
    "        method='mle',\n",
    "        alg='Nelder-Mead',\n",
    "    )\n",
    "    return sub_id, result\n",
    "\n",
    "# 进行多被试拟合的函数\n",
    "def fit_multiple_subjects(n_subjects, agent_class, nA, T, true_params, loss_fn, bnds, pbnds, p_names):\n",
    "    fit_results = {}\n",
    "    for i in range(n_subjects):\n",
    "        # 为每个被试生成数据\n",
    "        sub_id = f'subj{i}'\n",
    "        \n",
    "        data = generate_subject_data(agent_class, nA, T, true_params)\n",
    "        \n",
    "        # 执行拟合\n",
    "        sub_id, result = fit_subject_data(sub_id, loss_fn, data, bnds, pbnds, p_names)\n",
    "        \n",
    "        # 保存结果\n",
    "        fit_results[sub_id] = result\n",
    "    return fit_results"
   ]
  },
  {
   "cell_type": "code",
   "execution_count": 8,
   "id": "2736a4c8",
   "metadata": {},
   "outputs": [],
   "source": [
    "# 定义参数\n",
    "nA = 2\n",
    "T = 100\n",
    "true_params = [0.2, 2.0]  # 假设的真实参数\n",
    "n_subjects = 5\n",
    "method = 'mle'\n",
    "models = ['RW', 'FixedBetaRW']\n",
    "for model in models:\n",
    "    # 定义损失函数\n",
    "    loss_fn = make_loss_fn(eval(model), nA=2)\n",
    "\n",
    "    # 进行多被试拟合\n",
    "    fit_results = fit_multiple_subjects(n_subjects, RW, nA, T,\n",
    "                                        true_params, loss_fn,\n",
    "                                        RW.p_bnds, RW.p_pbnds, RW.p_names)\n",
    "\n",
    "    # 存储结果\n",
    "    pth = f'fits/fit_sub_info-{model}-{method}.pkl'\n",
    "    dir_path = os.path.dirname(pth)\n",
    "    os.makedirs(dir_path, exist_ok=True)\n",
    "    with open(pth, 'wb') as handle: pickle.dump(fit_results, handle)"
   ]
  },
  {
   "cell_type": "markdown",
   "id": "66d50e75",
   "metadata": {},
   "source": [
    "#### calculate AIC/BIC/pxp"
   ]
  },
  {
   "cell_type": "code",
   "execution_count": 9,
   "id": "5eedea43",
   "metadata": {},
   "outputs": [],
   "source": [
    "models = ['RW', 'FixedBetaRW']\n",
    "## 计算指标\n",
    "# llh_table 是个包含了不同模型的nll/AIC/BIC的dataframe\n",
    "# 需注意的是，这里的各个模型指标并非绝对值，而是相较于最优模型的相对值。\n",
    "llh_table, pxp  = get_llh_score(models, fit_sub_info = fit_results, \n",
    "                          method = 'mle', use_bic=True)\n"
   ]
  },
  {
   "cell_type": "markdown",
   "id": "4bf8e513",
   "metadata": {},
   "source": [
    "##### visualize"
   ]
  },
  {
   "cell_type": "code",
   "execution_count": 11,
   "id": "9eb27c71",
   "metadata": {},
   "outputs": [
    {
     "name": "stderr",
     "output_type": "stream",
     "text": [
      "c:\\Users\\yuyan\\Desktop\\model ftting\\utils\\draw.py:11: FutureWarning: \n",
      "\n",
      "Passing `palette` without assigning `hue` is deprecated and will be removed in v0.14.0. Assign the `y` variable to `hue` and set `legend=False` for the same effect.\n",
      "\n",
      "  v=sns.violinplot(data=data,\n"
     ]
    },
    {
     "data": {
      "image/png": "[encoded data removed]",
      "text/plain": [
       "<Figure size 600x300 with 2 Axes>"
      ]
     },
     "metadata": {
      "image/png": {
       "height": 289,
       "width": 531
      }
     },
     "output_type": "display_data"
    }
   ],
   "source": [
    "fig, axs = plt.subplots(1, 2, figsize=(6,3), sharey=True)\n",
    "font = {'family': 'Arial', 'weight': 'regular'}\n",
    "# Apply the font settings\n",
    "plt.rc('font', **font)\n",
    "ax = axs[0]\n",
    "index1 = 'AIC' # 这里的指标可以替换成BIC/NLL\n",
    "index2 = 'pxp' \n",
    "\n",
    "palette = [eval(m).color for m in models]\n",
    "violin(data=llh_table, x=f'{index1}', y='model', \n",
    "        order=models, orient='h', palette=palette,\n",
    "        mean_marker_size=9.5, scatter_size=6, \n",
    "         err_capsize=.2,\n",
    "        ax=ax)\n",
    "ax.axvline(x=0, ymin=0, ymax=1, color='k', ls='--', lw=1.5)\n",
    "lbl = [eval(m).name for m in models]\n",
    "\n",
    "ax.set_yticks(list(range(len(models)))) \n",
    "ax.set_yticklabels(lbl)\n",
    "ax.spines['left'].set_position(('axes',-0.1))\n",
    "ax.set_ylabel(r'$\\Delta$'+f'{index1}')\n",
    "ax.set_xlabel('')\n",
    "ax.set_box_aspect(1.5)\n",
    "for pos in ['bottom','left']: ax.spines[pos].set_linewidth(1.5)\n",
    "for pos in ['top','right']: ax.spines[pos].set_visible(False)\n",
    "\n",
    "ax = axs[1]\n",
    "palette = [eval(m).color for m in models]\n",
    "sns.barplot(ax=ax, data=pxp, y='model', x=f'{index2}', \n",
    "            hue='model', edgecolor=[.4]*3, lw=1.75,\n",
    "            palette=palette)\n",
    "\n",
    "for pos in ['bottom','left']: ax.spines[pos].set_linewidth(1.5)\n",
    "for pos in ['top','right']: ax.spines[pos].set_visible(False)\n",
    "ax.set_ylabel(r'$\\Delta$'+f'{index2}')\n",
    "ax.set_xlabel('')\n",
    "ax.set_box_aspect(1.5)\n",
    "fig.tight_layout()\n"
   ]
  },
  {
   "cell_type": "code",
   "execution_count": null,
   "id": "24f888ba",
   "metadata": {},
   "outputs": [],
   "source": []
  }
 ],
 "metadata": {
  "kernelspec": {
   "display_name": "Python 3",
   "language": "python",
   "name": "python3"
  },
  "language_info": {
   "codemirror_mode": {
    "name": "ipython",
    "version": 3
   },
   "file_extension": ".py",
   "mimetype": "text/x-python",
   "name": "python",
   "nbconvert_exporter": "python",
   "pygments_lexer": "ipython3",
   "version": "3.11.3"
  }
 },
 "nbformat": 4,
 "nbformat_minor": 5
}
